{
 "cells": [
  {
   "cell_type": "raw",
   "id": "50eca762-37a5-4ee7-9194-119e4eb8e629",
   "metadata": {},
   "source": [
    "CREATE TABLE IF NOT EXISTS public.divvy_2021_data\n",
    "(\n",
    "    ride_id varchar(30),\n",
    "    rideable_type varchar(15),\n",
    "    started_at timestamp,\n",
    "    ended_at timestamp,\n",
    "    start_station_name varchar(80),\n",
    "    end_station_name varchar(80),\n",
    "    member_casual varchar(12),\n",
    "    ride_length time,\n",
    "    weekday numeric\n",
    ");\n",
    "\n",
    "\n",
    "\n",
    "\n",
    "\n",
    "\n",
    "\n",
    "\n",
    "\n",
    "\n",
    "\n"
   ]
  },
  {
   "cell_type": "code",
   "execution_count": null,
   "id": "cb26c207-2915-482f-a267-a7b4cb57c160",
   "metadata": {},
   "outputs": [],
   "source": []
  }
 ],
 "metadata": {
  "kernelspec": {
   "display_name": "Python 3 (ipykernel)",
   "language": "python",
   "name": "python3"
  },
  "language_info": {
   "codemirror_mode": {
    "name": "ipython",
    "version": 3
   },
   "file_extension": ".py",
   "mimetype": "text/x-python",
   "name": "python",
   "nbconvert_exporter": "python",
   "pygments_lexer": "ipython3",
   "version": "3.9.7"
  }
 },
 "nbformat": 4,
 "nbformat_minor": 5
}
